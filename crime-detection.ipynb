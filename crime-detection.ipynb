{
 "cells": [
  {
   "cell_type": "markdown",
   "metadata": {},
   "source": [
    "# Import libraries, load and transform data"
   ]
  },
  {
   "cell_type": "code",
   "execution_count": 1,
   "metadata": {
    "execution": {
     "iopub.execute_input": "2025-05-13T05:40:29.407360Z",
     "iopub.status.busy": "2025-05-13T05:40:29.406674Z",
     "iopub.status.idle": "2025-05-13T05:41:48.187897Z",
     "shell.execute_reply": "2025-05-13T05:41:48.186865Z",
     "shell.execute_reply.started": "2025-05-13T05:40:29.407335Z"
    },
    "trusted": true
   },
   "outputs": [],
   "source": [
    "!pip install -U -q evaluate transformers datasets>=2.14.5 accelerate>=0.27 2>/dev/null"
   ]
  },
  {
   "cell_type": "code",
   "execution_count": 12,
   "metadata": {
    "execution": {
     "iopub.execute_input": "2025-05-13T05:13:13.573531Z",
     "iopub.status.busy": "2025-05-13T05:13:13.573232Z",
     "iopub.status.idle": "2025-05-13T05:15:55.059827Z",
     "shell.execute_reply": "2025-05-13T05:15:55.059091Z",
     "shell.execute_reply.started": "2025-05-13T05:13:13.573510Z"
    },
    "trusted": true
   },
   "outputs": [
    {
     "name": "stdout",
     "output_type": "stream",
     "text": [
      "Processing: RoadAccidents\n",
      "Processing: Assault\n",
      "Processing: Vandalism\n",
      "Processing: Arrest\n",
      "Processing: Shooting\n",
      "Processing: NormalVideos\n",
      "Processing: Arson\n",
      "Processing: Explosion\n",
      "Processing: Shoplifting\n",
      "Processing: Robbery\n",
      "Processing: Stealing\n",
      "Processing: Burglary\n",
      "Processing: Abuse\n",
      "Processing: Fighting\n",
      "✅ Done trimming each class to first 1000 images.\n"
     ]
    }
   ],
   "source": [
    "# import os\n",
    "# import shutil\n",
    "\n",
    "# # Set the root path to your Train folder\n",
    "# train_dir = \"/kaggle/input/Train\"\n",
    "\n",
    "# # Output folder to copy the trimmed dataset (optional, to avoid deleting original)\n",
    "# trimmed_train_dir = \"/kaggle/working/Train_trimmed\"\n",
    "# os.makedirs(trimmed_train_dir, exist_ok=True)\n",
    "\n",
    "# # Loop through each subfolder\n",
    "# for class_folder in os.listdir(train_dir):\n",
    "#     class_path = os.path.join(train_dir, class_folder)\n",
    "    \n",
    "#     if os.path.isdir(class_path):\n",
    "#         print(f\"Processing: {class_folder}\")\n",
    "\n",
    "#         # Make corresponding folder in the trimmed dataset\n",
    "#         trimmed_class_path = os.path.join(trimmed_train_dir, class_folder)\n",
    "#         os.makedirs(trimmed_class_path, exist_ok=True)\n",
    "\n",
    "#         # Get all files and sort them\n",
    "#         files = sorted(os.listdir(class_path))\n",
    "        \n",
    "#         # Take only the first 1000\n",
    "#         for file in files[:1000]:\n",
    "#             src = os.path.join(class_path, file)\n",
    "#             dst = os.path.join(trimmed_class_path, file)\n",
    "#             shutil.copy2(src, dst)\n",
    "\n",
    "# print(\"✅ Done trimming each class to first 1000 images.\")\n"
   ]
  },
  {
   "cell_type": "code",
   "execution_count": 13,
   "metadata": {
    "execution": {
     "iopub.execute_input": "2025-05-13T05:16:55.290142Z",
     "iopub.status.busy": "2025-05-13T05:16:55.289464Z",
     "iopub.status.idle": "2025-05-13T05:17:10.490141Z",
     "shell.execute_reply": "2025-05-13T05:17:10.489426Z",
     "shell.execute_reply.started": "2025-05-13T05:16:55.290117Z"
    },
    "trusted": true
   },
   "outputs": [
    {
     "name": "stdout",
     "output_type": "stream",
     "text": [
      "Processing: RoadAccidents\n",
      "Processing: Assault\n",
      "Processing: Vandalism\n",
      "Processing: Arrest\n",
      "Processing: Shooting\n",
      "Processing: NormalVideos\n",
      "Processing: Arson\n",
      "Processing: Explosion\n",
      "Processing: Shoplifting\n",
      "Processing: Robbery\n",
      "Processing: Stealing\n",
      "Processing: Burglary\n",
      "Processing: Abuse\n",
      "Processing: Fighting\n",
      "✅ Done trimming each class to first 100 images.\n"
     ]
    }
   ],
   "source": [
    "# import os\n",
    "# import shutil\n",
    "\n",
    "# # Set the root path to your Train folder\n",
    "# train_dir = \"/kaggle/input/Test\"\n",
    "\n",
    "# # Output folder to copy the trimmed dataset (optional, to avoid deleting original)\n",
    "# trimmed_train_dir = \"/kaggle/working/Test_trimmed\"\n",
    "# os.makedirs(trimmed_train_dir, exist_ok=True)\n",
    "\n",
    "# # Loop through each subfolder\n",
    "# for class_folder in os.listdir(train_dir):\n",
    "#     class_path = os.path.join(train_dir, class_folder)\n",
    "    \n",
    "#     if os.path.isdir(class_path):\n",
    "#         print(f\"Processing: {class_folder}\")\n",
    "\n",
    "#         # Make corresponding folder in the trimmed dataset\n",
    "#         trimmed_class_path = os.path.join(trimmed_train_dir, class_folder)\n",
    "#         os.makedirs(trimmed_class_path, exist_ok=True)\n",
    "\n",
    "#         # Get all files and sort them\n",
    "#         files = sorted(os.listdir(class_path))\n",
    "        \n",
    "#         # Take only the first 1000\n",
    "#         for file in files[:100]:\n",
    "#             src = os.path.join(class_path, file)\n",
    "#             dst = os.path.join(trimmed_class_path, file)\n",
    "#             shutil.copy2(src, dst)\n",
    "\n",
    "# print(\"✅ Done trimming each class to first 100 images.\")\n"
   ]
  },
  {
   "cell_type": "code",
   "execution_count": 14,
   "metadata": {
    "execution": {
     "iopub.execute_input": "2025-05-13T05:19:52.147312Z",
     "iopub.status.busy": "2025-05-13T05:19:52.146815Z",
     "iopub.status.idle": "2025-05-13T05:19:52.529576Z",
     "shell.execute_reply": "2025-05-13T05:19:52.528778Z",
     "shell.execute_reply.started": "2025-05-13T05:19:52.147287Z"
    },
    "trusted": true
   },
   "outputs": [
    {
     "name": "stdout",
     "output_type": "stream",
     "text": [
      "🔄 Moving files from Arson to Crime...\n",
      "🔄 Moving files from Explosion to Crime...\n",
      "🔄 Moving files from Arrest to Crime...\n",
      "🔄 Moving files from Assault to Crime...\n",
      "🔄 Moving files from Shoplifting to Crime...\n",
      "🔄 Moving files from Stealing to Crime...\n",
      "🔄 Moving files from Shooting to Crime...\n",
      "🔄 Moving files from Abuse to Crime...\n",
      "🔄 Moving files from Fighting to Crime...\n",
      "🔄 Moving files from Test to Crime...\n",
      "🔄 Moving files from Robbery to Crime...\n",
      "🔄 Moving files from Vandalism to Crime...\n",
      "🔄 Moving files from RoadAccidents to Crime...\n",
      "🔄 Moving files from Burglary to Crime...\n",
      "✅ Done. All crime-related videos are now in 'Crime' folder. 'NormalVideos' is untouched.\n"
     ]
    }
   ],
   "source": [
    "# import os\n",
    "# import shutil\n",
    "\n",
    "# # Set path to your trimmed training dataset\n",
    "# base_path = \"/kaggle/working/Train_trimmed\"\n",
    "\n",
    "# # Create a new folder for crime videos\n",
    "# crime_folder = os.path.join(base_path, \"Crime\")\n",
    "# os.makedirs(crime_folder, exist_ok=True)\n",
    "\n",
    "# # Loop through all folders inside Train_trimmed\n",
    "# for folder_name in os.listdir(base_path):\n",
    "#     folder_path = os.path.join(base_path, folder_name)\n",
    "\n",
    "#     # Skip if it's not a folder or if it's the Crime or NormalVideos folder\n",
    "#     if not os.path.isdir(folder_path) or folder_name in [\"Crime\", \"NormalVideos\"]:\n",
    "#         continue\n",
    "\n",
    "#     print(f\"🔄 Moving files from {folder_name} to Crime...\")\n",
    "    \n",
    "#     # Move each file to Crime folder\n",
    "#     for file_name in os.listdir(folder_path):\n",
    "#         src_file = os.path.join(folder_path, file_name)\n",
    "#         dst_file = os.path.join(crime_folder, file_name)\n",
    "\n",
    "#         # Avoid overwriting if file name clashes (optional: rename if needed)\n",
    "#         if os.path.exists(dst_file):\n",
    "#             base, ext = os.path.splitext(file_name)\n",
    "#             i = 1\n",
    "#             while os.path.exists(os.path.join(crime_folder, f\"{base}_{i}{ext}\")):\n",
    "#                 i += 1\n",
    "#             dst_file = os.path.join(crime_folder, f\"{base}_{i}{ext}\")\n",
    "        \n",
    "#         shutil.move(src_file, dst_file)\n",
    "\n",
    "#     # Remove the now-empty original folder\n",
    "#     shutil.rmtree(folder_path)\n",
    "\n",
    "# print(\"✅ Done. All crime-related videos are now in 'Crime' folder. 'NormalVideos' is untouched.\")\n"
   ]
  },
  {
   "cell_type": "code",
   "execution_count": 15,
   "metadata": {
    "execution": {
     "iopub.execute_input": "2025-05-13T05:21:38.891002Z",
     "iopub.status.busy": "2025-05-13T05:21:38.890271Z",
     "iopub.status.idle": "2025-05-13T05:21:38.934865Z",
     "shell.execute_reply": "2025-05-13T05:21:38.934303Z",
     "shell.execute_reply.started": "2025-05-13T05:21:38.890979Z"
    },
    "trusted": true
   },
   "outputs": [
    {
     "name": "stdout",
     "output_type": "stream",
     "text": [
      "🔄 Moving files from Arson to Crime...\n",
      "🔄 Moving files from Explosion to Crime...\n",
      "🔄 Moving files from Arrest to Crime...\n",
      "🔄 Moving files from Assault to Crime...\n",
      "🔄 Moving files from Shoplifting to Crime...\n",
      "🔄 Moving files from Stealing to Crime...\n",
      "🔄 Moving files from Shooting to Crime...\n",
      "🔄 Moving files from Abuse to Crime...\n",
      "🔄 Moving files from Fighting to Crime...\n",
      "🔄 Moving files from Robbery to Crime...\n",
      "🔄 Moving files from Vandalism to Crime...\n",
      "🔄 Moving files from RoadAccidents to Crime...\n",
      "🔄 Moving files from Burglary to Crime...\n",
      "✅ Done. All crime-related videos are now in 'Crime' folder. 'NormalVideos' is untouched.\n"
     ]
    }
   ],
   "source": [
    "# import os\n",
    "# import shutil\n",
    "\n",
    "# # Set path to your trimmed training dataset\n",
    "# base_path = \"/kaggle/working/Test_trimmed\"\n",
    "\n",
    "# # Create a new folder for crime videos\n",
    "# crime_folder = os.path.join(base_path, \"Crime\")\n",
    "# os.makedirs(crime_folder, exist_ok=True)\n",
    "\n",
    "# # Loop through all folders inside Train_trimmed\n",
    "# for folder_name in os.listdir(base_path):\n",
    "#     folder_path = os.path.join(base_path, folder_name)\n",
    "\n",
    "#     # Skip if it's not a folder or if it's the Crime or NormalVideos folder\n",
    "#     if not os.path.isdir(folder_path) or folder_name in [\"Crime\", \"NormalVideos\"]:\n",
    "#         continue\n",
    "\n",
    "#     print(f\"🔄 Moving files from {folder_name} to Crime...\")\n",
    "    \n",
    "#     # Move each file to Crime folder\n",
    "#     for file_name in os.listdir(folder_path):\n",
    "#         src_file = os.path.join(folder_path, file_name)\n",
    "#         dst_file = os.path.join(crime_folder, file_name)\n",
    "\n",
    "#         # Avoid overwriting if file name clashes (optional: rename if needed)\n",
    "#         if os.path.exists(dst_file):\n",
    "#             base, ext = os.path.splitext(file_name)\n",
    "#             i = 1\n",
    "#             while os.path.exists(os.path.join(crime_folder, f\"{base}_{i}{ext}\")):\n",
    "#                 i += 1\n",
    "#             dst_file = os.path.join(crime_folder, f\"{base}_{i}{ext}\")\n",
    "        \n",
    "#         shutil.move(src_file, dst_file)\n",
    "\n",
    "#     # Remove the now-empty original folder\n",
    "#     shutil.rmtree(folder_path)\n",
    "\n",
    "# print(\"✅ Done. All crime-related videos are now in 'Crime' folder. 'NormalVideos' is untouched.\")\n"
   ]
  },
  {
   "cell_type": "code",
   "execution_count": 16,
   "metadata": {
    "execution": {
     "iopub.execute_input": "2025-05-13T05:23:20.365173Z",
     "iopub.status.busy": "2025-05-13T05:23:20.364653Z",
     "iopub.status.idle": "2025-05-13T05:23:24.343801Z",
     "shell.execute_reply": "2025-05-13T05:23:24.343055Z",
     "shell.execute_reply.started": "2025-05-13T05:23:20.365151Z"
    },
    "trusted": true
   },
   "outputs": [
    {
     "name": "stdout",
     "output_type": "stream",
     "text": [
      "✅ Zipping complete. Files are now in /kaggle/working/\n"
     ]
    }
   ],
   "source": [
    "# import shutil\n",
    "\n",
    "# # Zip the trimmed train folder\n",
    "# shutil.make_archive('/kaggle/working/Train_trimmed', 'zip', '/kaggle/working/Train_trimmed')\n",
    "\n",
    "# # Zip the trimmed test folder\n",
    "# shutil.make_archive('/kaggle/working/Test_trimmed', 'zip', '/kaggle/working/Test_trimmed')\n",
    "\n",
    "# print(\"✅ Zipping complete. Files are now in /kaggle/working/\")\n"
   ]
  },
  {
   "cell_type": "code",
   "execution_count": 46,
   "metadata": {
    "execution": {
     "iopub.execute_input": "2025-05-13T06:06:20.709387Z",
     "iopub.status.busy": "2025-05-13T06:06:20.709127Z",
     "iopub.status.idle": "2025-05-13T06:06:32.398671Z",
     "shell.execute_reply": "2025-05-13T06:06:32.397924Z",
     "shell.execute_reply.started": "2025-05-13T06:06:20.709367Z"
    },
    "trusted": true
   },
   "outputs": [
    {
     "name": "stdout",
     "output_type": "stream",
     "text": [
      "Found existing installation: scikit-learn 1.2.2\n",
      "Uninstalling scikit-learn-1.2.2:\n",
      "  Successfully uninstalled scikit-learn-1.2.2\n",
      "Found existing installation: imbalanced-learn 0.13.0\n",
      "Uninstalling imbalanced-learn-0.13.0:\n",
      "  Successfully uninstalled imbalanced-learn-0.13.0\n",
      "Found existing installation: numpy 1.26.4\n",
      "Uninstalling numpy-1.26.4:\n",
      "  Successfully uninstalled numpy-1.26.4\n",
      "Collecting scikit-learn\n",
      "  Downloading scikit_learn-1.6.1-cp311-cp311-manylinux_2_17_x86_64.manylinux2014_x86_64.whl.metadata (18 kB)\n",
      "Collecting imbalanced-learn\n",
      "  Downloading imbalanced_learn-0.13.0-py3-none-any.whl.metadata (8.8 kB)\n",
      "Collecting numpy<2\n",
      "  Downloading numpy-1.26.4-cp311-cp311-manylinux_2_17_x86_64.manylinux2014_x86_64.whl.metadata (61 kB)\n",
      "\u001b[2K     \u001b[90m━━━━━━━━━━━━━━━━━━━━━━━━━━━━━━━━━━━━━━━━\u001b[0m \u001b[32m61.0/61.0 kB\u001b[0m \u001b[31m3.2 MB/s\u001b[0m eta \u001b[36m0:00:00\u001b[0m\n",
      "\u001b[?25hRequirement already satisfied: scipy>=1.6.0 in /usr/local/lib/python3.11/dist-packages (from scikit-learn) (1.15.2)\n",
      "Requirement already satisfied: joblib>=1.2.0 in /usr/local/lib/python3.11/dist-packages (from scikit-learn) (1.5.0)\n",
      "Requirement already satisfied: threadpoolctl>=3.1.0 in /usr/local/lib/python3.11/dist-packages (from scikit-learn) (3.6.0)\n",
      "Requirement already satisfied: sklearn-compat<1,>=0.1 in /usr/local/lib/python3.11/dist-packages (from imbalanced-learn) (0.1.3)\n",
      "Downloading scikit_learn-1.6.1-cp311-cp311-manylinux_2_17_x86_64.manylinux2014_x86_64.whl (13.5 MB)\n",
      "\u001b[2K   \u001b[90m━━━━━━━━━━━━━━━━━━━━━━━━━━━━━━━━━━━━━━━━\u001b[0m \u001b[32m13.5/13.5 MB\u001b[0m \u001b[31m102.3 MB/s\u001b[0m eta \u001b[36m0:00:00\u001b[0m00:01\u001b[0m00:01\u001b[0m\n",
      "\u001b[?25hDownloading imbalanced_learn-0.13.0-py3-none-any.whl (238 kB)\n",
      "\u001b[2K   \u001b[90m━━━━━━━━━━━━━━━━━━━━━━━━━━━━━━━━━━━━━━━━\u001b[0m \u001b[32m238.4/238.4 kB\u001b[0m \u001b[31m15.5 MB/s\u001b[0m eta \u001b[36m0:00:00\u001b[0m\n",
      "\u001b[?25hDownloading numpy-1.26.4-cp311-cp311-manylinux_2_17_x86_64.manylinux2014_x86_64.whl (18.3 MB)\n",
      "\u001b[2K   \u001b[90m━━━━━━━━━━━━━━━━━━━━━━━━━━━━━━━━━━━━━━━━\u001b[0m \u001b[32m18.3/18.3 MB\u001b[0m \u001b[31m85.3 MB/s\u001b[0m eta \u001b[36m0:00:00\u001b[0m:00:01\u001b[0m00:01\u001b[0m\n",
      "\u001b[?25hInstalling collected packages: numpy, scikit-learn, imbalanced-learn\n",
      "\u001b[31mERROR: pip's dependency resolver does not currently take into account all the packages that are installed. This behaviour is the source of the following dependency conflicts.\n",
      "gensim 4.3.3 requires scipy<1.14.0,>=1.7.0, but you have scipy 1.15.2 which is incompatible.\n",
      "category-encoders 2.7.0 requires scikit-learn<1.6.0,>=1.0.0, but you have scikit-learn 1.6.1 which is incompatible.\n",
      "cesium 0.12.4 requires numpy<3.0,>=2.0, but you have numpy 1.26.4 which is incompatible.\n",
      "google-colab 1.0.0 requires google-auth==2.38.0, but you have google-auth 2.40.1 which is incompatible.\n",
      "google-colab 1.0.0 requires notebook==6.5.7, but you have notebook 6.5.4 which is incompatible.\n",
      "google-colab 1.0.0 requires pandas==2.2.2, but you have pandas 2.2.3 which is incompatible.\n",
      "dopamine-rl 4.1.2 requires gymnasium>=1.0.0, but you have gymnasium 0.29.0 which is incompatible.\n",
      "bigframes 1.42.0 requires rich<14,>=12.4.4, but you have rich 14.0.0 which is incompatible.\n",
      "plotnine 0.14.5 requires matplotlib>=3.8.0, but you have matplotlib 3.7.2 which is incompatible.\n",
      "pandas-gbq 0.28.0 requires google-api-core<3.0.0dev,>=2.10.2, but you have google-api-core 1.34.1 which is incompatible.\u001b[0m\u001b[31m\n",
      "\u001b[0mSuccessfully installed imbalanced-learn-0.13.0 numpy-1.26.4 scikit-learn-1.6.1\n"
     ]
    }
   ],
   "source": [
    " !pip uninstall -y scikit-learn imbalanced-learn numpy\n",
    " !pip install -U scikit-learn imbalanced-learn \"numpy<2\"\n",
    "# # !pip uninstall -y "
   ]
  },
  {
   "cell_type": "code",
   "execution_count": 47,
   "metadata": {
    "execution": {
     "iopub.execute_input": "2025-05-13T06:06:47.675669Z",
     "iopub.status.busy": "2025-05-13T06:06:47.674883Z",
     "iopub.status.idle": "2025-05-13T06:06:47.681855Z",
     "shell.execute_reply": "2025-05-13T06:06:47.681273Z",
     "shell.execute_reply.started": "2025-05-13T06:06:47.675640Z"
    },
    "trusted": true
   },
   "outputs": [],
   "source": [
    "import warnings  \n",
    "warnings.filterwarnings(\"ignore\")  \n",
    "\n",
    "import gc \n",
    "import numpy as np \n",
    "import pandas as pd  \n",
    "import itertools  \n",
    "from collections import Counter  \n",
    "import matplotlib.pyplot as plt  \n",
    "from sklearn.metrics import ( \n",
    "    accuracy_score, \n",
    "    roc_auc_score, \n",
    "    confusion_matrix, \n",
    "    classification_report,  \n",
    "    f1_score  \n",
    ")\n",
    "\n",
    "import accelerate \n",
    "import evaluate  \n",
    "from datasets import Dataset, Image, ClassLabel  \n",
    "from transformers import (  \n",
    "    TrainingArguments,  \n",
    "    Trainer,  \n",
    "    ViTImageProcessor,  \n",
    "    ViTForImageClassification,  \n",
    "    DefaultDataCollator  \n",
    ")\n",
    "import torch  \n",
    "from torch.utils.data import DataLoader  \n",
    "from torchvision.transforms import (  \n",
    "    CenterCrop,  \n",
    "    Compose,  \n",
    "    Normalize,  \n",
    "    RandomRotation,  \n",
    "    RandomResizedCrop,  \n",
    "    RandomHorizontalFlip,  \n",
    "    RandomAdjustSharpness,  \n",
    "    Resize,  \n",
    "    ToTensor  \n",
    ")"
   ]
  },
  {
   "cell_type": "code",
   "execution_count": 48,
   "metadata": {
    "execution": {
     "iopub.execute_input": "2025-05-13T06:06:52.329581Z",
     "iopub.status.busy": "2025-05-13T06:06:52.329103Z",
     "iopub.status.idle": "2025-05-13T06:06:52.333952Z",
     "shell.execute_reply": "2025-05-13T06:06:52.333099Z",
     "shell.execute_reply.started": "2025-05-13T06:06:52.329558Z"
    },
    "trusted": true
   },
   "outputs": [],
   "source": [
    "from PIL import ImageFile\n",
    "\n",
    "ImageFile.LOAD_TRUNCATED_IMAGES = True"
   ]
  },
  {
   "cell_type": "code",
   "execution_count": 49,
   "metadata": {
    "execution": {
     "iopub.execute_input": "2025-05-13T06:06:54.184877Z",
     "iopub.status.busy": "2025-05-13T06:06:54.184610Z",
     "iopub.status.idle": "2025-05-13T06:06:54.332433Z",
     "shell.execute_reply": "2025-05-13T06:06:54.331592Z",
     "shell.execute_reply.started": "2025-05-13T06:06:54.184857Z"
    },
    "trusted": true
   },
   "outputs": [
    {
     "name": "stderr",
     "output_type": "stream",
     "text": [
      "100%|██████████| 14000/14000 [00:00<00:00, 369307.46it/s]"
     ]
    },
    {
     "name": "stdout",
     "output_type": "stream",
     "text": [
      "14000 14000 2\n",
      "(14000, 2)\n"
     ]
    },
    {
     "name": "stderr",
     "output_type": "stream",
     "text": [
      "\n"
     ]
    }
   ],
   "source": [
    "\n",
    "image_dict = {}\n",
    "\n",
    "\n",
    "from pathlib import Path\n",
    "from tqdm import tqdm\n",
    "import os\n",
    "\n",
    "file_names = []\n",
    "labels = []\n",
    "\n",
    "\n",
    "for file in tqdm(sorted((Path('/kaggle/input/crime-data/Train_trimmed/').glob('*/*.*')))):\n",
    "    \n",
    "    sample_dir = '/'.join(str(file).split('/')[:-1])+'/'\n",
    "    label = str(file).split('/')[-2]  \n",
    "    if label == \"NormalVideos\":\n",
    "        labels.append(\"Normal\")\n",
    "    else:\n",
    "        labels.append(\"Crime\")\n",
    "    file_names.append(str(file))  \n",
    "\n",
    "\n",
    "print(len(file_names), len(labels), len(set(labels)))\n",
    "\n",
    "df = pd.DataFrame.from_dict({\"image\": file_names, \"label\": labels})\n",
    "print(df.shape)"
   ]
  },
  {
   "cell_type": "code",
   "execution_count": 50,
   "metadata": {
    "execution": {
     "iopub.execute_input": "2025-05-13T06:06:57.449660Z",
     "iopub.status.busy": "2025-05-13T06:06:57.448924Z",
     "iopub.status.idle": "2025-05-13T06:06:57.455930Z",
     "shell.execute_reply": "2025-05-13T06:06:57.455348Z",
     "shell.execute_reply.started": "2025-05-13T06:06:57.449638Z"
    },
    "trusted": true
   },
   "outputs": [
    {
     "data": {
      "text/plain": [
       "array(['Crime', 'Normal'], dtype=object)"
      ]
     },
     "execution_count": 50,
     "metadata": {},
     "output_type": "execute_result"
    }
   ],
   "source": [
    "df['label'].unique()"
   ]
  },
  {
   "cell_type": "code",
   "execution_count": 51,
   "metadata": {
    "execution": {
     "iopub.execute_input": "2025-05-13T06:06:59.084637Z",
     "iopub.status.busy": "2025-05-13T06:06:59.084180Z",
     "iopub.status.idle": "2025-05-13T06:06:59.088164Z",
     "shell.execute_reply": "2025-05-13T06:06:59.087553Z",
     "shell.execute_reply.started": "2025-05-13T06:06:59.084614Z"
    },
    "trusted": true
   },
   "outputs": [],
   "source": [
    "# # random oversampling of all minority classes\n",
    "# y = df[['label']]\n",
    "# df = df.drop(['label'], axis=1)\n",
    "# ros = RandomOverSampler(random_state=83)\n",
    "# df, y_resampled = ros.fit_resample(df, y)\n",
    "# del y\n",
    "# df['label'] = y_resampled\n",
    "# del y_resampled\n",
    "# gc.collect()\n",
    "\n",
    "# print(df.shape)"
   ]
  },
  {
   "cell_type": "code",
   "execution_count": 52,
   "metadata": {
    "execution": {
     "iopub.execute_input": "2025-05-13T06:06:59.979230Z",
     "iopub.status.busy": "2025-05-13T06:06:59.978932Z",
     "iopub.status.idle": "2025-05-13T06:06:59.982662Z",
     "shell.execute_reply": "2025-05-13T06:06:59.981953Z",
     "shell.execute_reply.started": "2025-05-13T06:06:59.979211Z"
    },
    "trusted": true
   },
   "outputs": [],
   "source": [
    "\n",
    "# df = df.sample(10**3)"
   ]
  },
  {
   "cell_type": "code",
   "execution_count": 53,
   "metadata": {
    "execution": {
     "iopub.execute_input": "2025-05-13T06:07:00.634247Z",
     "iopub.status.busy": "2025-05-13T06:07:00.633936Z",
     "iopub.status.idle": "2025-05-13T06:07:00.657808Z",
     "shell.execute_reply": "2025-05-13T06:07:00.657066Z",
     "shell.execute_reply.started": "2025-05-13T06:07:00.634226Z"
    },
    "trusted": true
   },
   "outputs": [],
   "source": [
    "dataset = Dataset.from_pandas(df).cast_column(\"image\", Image())"
   ]
  },
  {
   "cell_type": "code",
   "execution_count": 54,
   "metadata": {
    "execution": {
     "iopub.execute_input": "2025-05-13T06:07:01.384567Z",
     "iopub.status.busy": "2025-05-13T06:07:01.384045Z",
     "iopub.status.idle": "2025-05-13T06:07:01.392521Z",
     "shell.execute_reply": "2025-05-13T06:07:01.391797Z",
     "shell.execute_reply.started": "2025-05-13T06:07:01.384542Z"
    },
    "trusted": true
   },
   "outputs": [
    {
     "data": {
      "image/jpeg": "[encoded data removed]",
      "image/png": "[encoded data removed]",
      "text/plain": [
       "<PIL.PngImagePlugin.PngImageFile image mode=RGB size=64x64>"
      ]
     },
     "execution_count": 54,
     "metadata": {},
     "output_type": "execute_result"
    }
   ],
   "source": [
    "\n",
    "dataset[500][\"image\"]"
   ]
  },
  {
   "cell_type": "code",
   "execution_count": 55,
   "metadata": {
    "execution": {
     "iopub.execute_input": "2025-05-13T06:07:03.244910Z",
     "iopub.status.busy": "2025-05-13T06:07:03.244242Z",
     "iopub.status.idle": "2025-05-13T06:07:03.266810Z",
     "shell.execute_reply": "2025-05-13T06:07:03.266110Z",
     "shell.execute_reply.started": "2025-05-13T06:07:03.244887Z"
    },
    "trusted": true
   },
   "outputs": [
    {
     "name": "stderr",
     "output_type": "stream",
     "text": [
      "100%|██████████| 1400/1400 [00:00<00:00, 360911.22it/s]"
     ]
    },
    {
     "name": "stdout",
     "output_type": "stream",
     "text": [
      "1400 1400 2\n",
      "(1400, 2)\n"
     ]
    },
    {
     "name": "stderr",
     "output_type": "stream",
     "text": [
      "\n"
     ]
    }
   ],
   "source": [
    "\n",
    "test_file_names = []\n",
    "test_labels = []\n",
    "\n",
    "for file in tqdm(sorted((Path('/kaggle/input/crime-data/Test_trimmed/').glob('*/*.*')))):\n",
    "    \n",
    "    sample_dir = '/'.join(str(file).split('/')[:-1])+'/'\n",
    "    test_label = str(file).split('/')[-2]  \n",
    "    if test_label == \"NormalVideos\":\n",
    "        test_labels.append(\"Normal\")\n",
    "    else:\n",
    "        test_labels.append(\"Crime\")\n",
    "    test_file_names.append(str(file))  \n",
    "\n",
    "\n",
    "print(len(test_file_names), len(test_labels), len(set(test_labels)))\n",
    "\n",
    "\n",
    "test_df = pd.DataFrame.from_dict({\"image\": test_file_names, \"label\": test_labels})\n",
    "print(test_df.shape)"
   ]
  },
  {
   "cell_type": "code",
   "execution_count": 56,
   "metadata": {
    "execution": {
     "iopub.execute_input": "2025-05-13T06:07:04.704410Z",
     "iopub.status.busy": "2025-05-13T06:07:04.704143Z",
     "iopub.status.idle": "2025-05-13T06:07:04.707823Z",
     "shell.execute_reply": "2025-05-13T06:07:04.707083Z",
     "shell.execute_reply.started": "2025-05-13T06:07:04.704390Z"
    },
    "trusted": true
   },
   "outputs": [],
   "source": [
    "\n",
    "# test_df = test_df.sample(10**4)"
   ]
  },
  {
   "cell_type": "code",
   "execution_count": 57,
   "metadata": {
    "execution": {
     "iopub.execute_input": "2025-05-13T06:07:06.464385Z",
     "iopub.status.busy": "2025-05-13T06:07:06.464114Z",
     "iopub.status.idle": "2025-05-13T06:07:06.478921Z",
     "shell.execute_reply": "2025-05-13T06:07:06.477902Z",
     "shell.execute_reply.started": "2025-05-13T06:07:06.464365Z"
    },
    "trusted": true
   },
   "outputs": [],
   "source": [
    "\n",
    "test_data = Dataset.from_pandas(test_df).cast_column(\"image\", Image())"
   ]
  },
  {
   "cell_type": "code",
   "execution_count": 58,
   "metadata": {
    "execution": {
     "iopub.execute_input": "2025-05-13T06:07:07.989540Z",
     "iopub.status.busy": "2025-05-13T06:07:07.989025Z",
     "iopub.status.idle": "2025-05-13T06:07:07.993564Z",
     "shell.execute_reply": "2025-05-13T06:07:07.992871Z",
     "shell.execute_reply.started": "2025-05-13T06:07:07.989519Z"
    },
    "trusted": true
   },
   "outputs": [
    {
     "name": "stdout",
     "output_type": "stream",
     "text": [
      "['Crime', 'Crime', 'Crime', 'Crime', 'Crime']\n"
     ]
    }
   ],
   "source": [
    "\n",
    "labels_subset = labels[:5]\n",
    "\n",
    "\n",
    "print(labels_subset)"
   ]
  },
  {
   "cell_type": "code",
   "execution_count": 59,
   "metadata": {
    "execution": {
     "iopub.execute_input": "2025-05-13T06:07:09.314789Z",
     "iopub.status.busy": "2025-05-13T06:07:09.314139Z",
     "iopub.status.idle": "2025-05-13T06:07:09.319476Z",
     "shell.execute_reply": "2025-05-13T06:07:09.318699Z",
     "shell.execute_reply.started": "2025-05-13T06:07:09.314766Z"
    },
    "trusted": true
   },
   "outputs": [
    {
     "name": "stdout",
     "output_type": "stream",
     "text": [
      "Mapping of IDs to Labels: {0: 'Crime', 1: 'Normal'} \n",
      "\n",
      "Mapping of Labels to IDs: {'Crime': 0, 'Normal': 1}\n"
     ]
    }
   ],
   "source": [
    "\n",
    "labels_list = sorted(list(set(labels)))\n",
    "\n",
    "\n",
    "label2id, id2label = dict(), dict()\n",
    "\n",
    "\n",
    "for i, label in enumerate(labels_list):\n",
    "    label2id[label] = i  \n",
    "    id2label[i] = label  \n",
    "\n",
    "\n",
    "print(\"Mapping of IDs to Labels:\", id2label, '\\n')\n",
    "print(\"Mapping of Labels to IDs:\", label2id)"
   ]
  },
  {
   "cell_type": "code",
   "execution_count": 60,
   "metadata": {
    "execution": {
     "iopub.execute_input": "2025-05-13T06:07:12.744646Z",
     "iopub.status.busy": "2025-05-13T06:07:12.744384Z",
     "iopub.status.idle": "2025-05-13T06:07:12.824972Z",
     "shell.execute_reply": "2025-05-13T06:07:12.824476Z",
     "shell.execute_reply.started": "2025-05-13T06:07:12.744626Z"
    },
    "trusted": true
   },
   "outputs": [
    {
     "data": {
      "application/vnd.jupyter.widget-view+json": {
       "model_id": "40575ccf6a72496bbfeb204d69e47424",
       "version_major": 2,
       "version_minor": 0
      },
      "text/plain": [
       "Map:   0%|          | 0/14000 [00:00<?, ? examples/s]"
      ]
     },
     "metadata": {},
     "output_type": "display_data"
    },
    {
     "data": {
      "application/vnd.jupyter.widget-view+json": {
       "model_id": "df2f60922567450e81524e041da48572",
       "version_major": 2,
       "version_minor": 0
      },
      "text/plain": [
       "Casting the dataset:   0%|          | 0/14000 [00:00<?, ? examples/s]"
      ]
     },
     "metadata": {},
     "output_type": "display_data"
    }
   ],
   "source": [
    "\n",
    "ClassLabels = ClassLabel(num_classes=len(labels_list), names=labels_list)\n",
    "\n",
    "def map_label2id(example):\n",
    "    example['label'] = ClassLabels.str2int(example['label'])\n",
    "    return example\n",
    "\n",
    "dataset = dataset.map(map_label2id, batched=True)\n",
    "\n",
    "\n",
    "dataset = dataset.cast_column('label', ClassLabels)\n",
    "\n",
    "\n",
    "dataset = dataset.train_test_split(test_size=0.1, shuffle=True, stratify_by_column=\"label\")\n",
    "\n",
    "train_data = dataset['train']\n",
    "\n",
    "\n",
    "val_data = dataset['test']"
   ]
  },
  {
   "cell_type": "code",
   "execution_count": 61,
   "metadata": {
    "execution": {
     "iopub.execute_input": "2025-05-13T06:07:15.304985Z",
     "iopub.status.busy": "2025-05-13T06:07:15.304273Z",
     "iopub.status.idle": "2025-05-13T06:07:15.591559Z",
     "shell.execute_reply": "2025-05-13T06:07:15.590918Z",
     "shell.execute_reply.started": "2025-05-13T06:07:15.304937Z"
    },
    "trusted": true
   },
   "outputs": [
    {
     "name": "stdout",
     "output_type": "stream",
     "text": [
      "Size:  224\n"
     ]
    }
   ],
   "source": [
    "\n",
    "model_str = 'google/vit-base-patch16-224-in21k'\n",
    "\n",
    "\n",
    "processor = ViTImageProcessor.from_pretrained(model_str)\n",
    "\n",
    "\n",
    "image_mean, image_std = processor.image_mean, processor.image_std\n",
    "\n",
    "\n",
    "size = processor.size[\"height\"]\n",
    "print(\"Size: \", size)\n",
    "\n",
    "\n",
    "normalize = Normalize(mean=image_mean, std=image_std)\n",
    "\n",
    "\n",
    "_train_transforms = Compose(\n",
    "    [\n",
    "        Resize((size, size)),             \n",
    "    #         RandomRotation(90),              \n",
    "        RandomAdjustSharpness(2),         \n",
    "#         RandomHorizontalFlip(0.5),    \n",
    "        ToTensor(),                      \n",
    "        normalize                       \n",
    "    ]\n",
    ")\n",
    "\n",
    "_val_transforms = Compose(\n",
    "    [\n",
    "        Resize((size, size)),           \n",
    "        ToTensor(),                       \n",
    "        normalize                         \n",
    "    ]\n",
    ")\n",
    "\n",
    "def train_transforms(examples):\n",
    "    examples['pixel_values'] = [_train_transforms(image.convert(\"RGB\")) for image in examples['image']]\n",
    "    return examples\n",
    "\n",
    "def val_transforms(examples):\n",
    "    examples['pixel_values'] = [_val_transforms(image.convert(\"RGB\")) for image in examples['image']]\n",
    "    return examples"
   ]
  },
  {
   "cell_type": "code",
   "execution_count": 62,
   "metadata": {
    "execution": {
     "iopub.execute_input": "2025-05-13T06:07:27.944885Z",
     "iopub.status.busy": "2025-05-13T06:07:27.944597Z",
     "iopub.status.idle": "2025-05-13T06:07:27.984344Z",
     "shell.execute_reply": "2025-05-13T06:07:27.983581Z",
     "shell.execute_reply.started": "2025-05-13T06:07:27.944863Z"
    },
    "trusted": true
   },
   "outputs": [
    {
     "data": {
      "application/vnd.jupyter.widget-view+json": {
       "model_id": "e71564223d79465ead576deabe23a46f",
       "version_major": 2,
       "version_minor": 0
      },
      "text/plain": [
       "Map:   0%|          | 0/1400 [00:00<?, ? examples/s]"
      ]
     },
     "metadata": {},
     "output_type": "display_data"
    },
    {
     "data": {
      "application/vnd.jupyter.widget-view+json": {
       "model_id": "7df8828d758048ae9f9a76e32306e024",
       "version_major": 2,
       "version_minor": 0
      },
      "text/plain": [
       "Casting the dataset:   0%|          | 0/1400 [00:00<?, ? examples/s]"
      ]
     },
     "metadata": {},
     "output_type": "display_data"
    }
   ],
   "source": [
    "\n",
    "test_data = test_data.map(map_label2id, batched=True)\n",
    "\n",
    "\n",
    "test_data = test_data.cast_column('label', ClassLabels)"
   ]
  },
  {
   "cell_type": "code",
   "execution_count": 63,
   "metadata": {
    "execution": {
     "iopub.execute_input": "2025-05-13T06:07:30.146717Z",
     "iopub.status.busy": "2025-05-13T06:07:30.146444Z",
     "iopub.status.idle": "2025-05-13T06:07:30.157059Z",
     "shell.execute_reply": "2025-05-13T06:07:30.156304Z",
     "shell.execute_reply.started": "2025-05-13T06:07:30.146695Z"
    },
    "trusted": true
   },
   "outputs": [],
   "source": [
    "\n",
    "train_data.set_transform(train_transforms)\n",
    "\n",
    "\n",
    "val_data.set_transform(val_transforms)\n",
    "\n",
    "test_data.set_transform(val_transforms)"
   ]
  },
  {
   "cell_type": "code",
   "execution_count": 64,
   "metadata": {
    "execution": {
     "iopub.execute_input": "2025-05-13T06:07:31.744552Z",
     "iopub.status.busy": "2025-05-13T06:07:31.744252Z",
     "iopub.status.idle": "2025-05-13T06:07:31.748945Z",
     "shell.execute_reply": "2025-05-13T06:07:31.748234Z",
     "shell.execute_reply.started": "2025-05-13T06:07:31.744529Z"
    },
    "trusted": true
   },
   "outputs": [],
   "source": [
    "\n",
    "def collate_fn(examples):\n",
    "\n",
    "    pixel_values = torch.stack([example[\"pixel_values\"] for example in examples])\n",
    "    labels = torch.tensor([example['label'] for example in examples])\n",
    "    return {\"pixel_values\": pixel_values, \"labels\": labels}"
   ]
  },
  {
   "cell_type": "markdown",
   "metadata": {},
   "source": [
    "# Load, train, and evaluate model"
   ]
  },
  {
   "cell_type": "code",
   "execution_count": 65,
   "metadata": {
    "execution": {
     "iopub.execute_input": "2025-05-13T06:07:34.584921Z",
     "iopub.status.busy": "2025-05-13T06:07:34.584644Z",
     "iopub.status.idle": "2025-05-13T06:07:34.841689Z",
     "shell.execute_reply": "2025-05-13T06:07:34.841027Z",
     "shell.execute_reply.started": "2025-05-13T06:07:34.584898Z"
    },
    "trusted": true
   },
   "outputs": [
    {
     "name": "stderr",
     "output_type": "stream",
     "text": [
      "Some weights of ViTForImageClassification were not initialized from the model checkpoint at google/vit-base-patch16-224-in21k and are newly initialized: ['classifier.bias', 'classifier.weight']\n",
      "You should probably TRAIN this model on a down-stream task to be able to use it for predictions and inference.\n"
     ]
    },
    {
     "name": "stdout",
     "output_type": "stream",
     "text": [
      "85.800194\n"
     ]
    }
   ],
   "source": [
    "model = ViTForImageClassification.from_pretrained(model_str, num_labels=len(labels_list))\n",
    "\n",
    "model.config.id2label = id2label\n",
    "model.config.label2id = label2id\n",
    "\n",
    "print(model.num_parameters(only_trainable=True) / 1e6)"
   ]
  },
  {
   "cell_type": "code",
   "execution_count": 78,
   "metadata": {
    "execution": {
     "iopub.execute_input": "2025-05-13T06:20:51.008457Z",
     "iopub.status.busy": "2025-05-13T06:20:51.008185Z",
     "iopub.status.idle": "2025-05-13T06:20:51.459068Z",
     "shell.execute_reply": "2025-05-13T06:20:51.458510Z",
     "shell.execute_reply.started": "2025-05-13T06:20:51.008435Z"
    },
    "trusted": true
   },
   "outputs": [],
   "source": [
    "accuracy_metric = evaluate.load(\"accuracy\")\n",
    "\n",
    "def compute_metrics(eval_pred):\n",
    "    predictions = eval_pred.predictions\n",
    "    label_ids = eval_pred.label_ids\n",
    "    predicted_labels = predictions.argmax(axis=1)\n",
    "    acc_score = accuracy_metric.compute(predictions=predicted_labels, references=label_ids)['accuracy']\n",
    "    \n",
    "    return {\"accuracy\": acc_score}\n"
   ]
  },
  {
   "cell_type": "code",
   "execution_count": 79,
   "metadata": {
    "execution": {
     "iopub.execute_input": "2025-05-13T06:20:59.518062Z",
     "iopub.status.busy": "2025-05-13T06:20:59.517456Z",
     "iopub.status.idle": "2025-05-13T06:20:59.546237Z",
     "shell.execute_reply": "2025-05-13T06:20:59.545703Z",
     "shell.execute_reply.started": "2025-05-13T06:20:59.518038Z"
    },
    "trusted": true
   },
   "outputs": [],
   "source": [
    "metric_name = \"accuracy\"\n",
    "\n",
    "model_name = \"crime_cctv_image_detection_aashin\"\n",
    "\n",
    "num_train_epochs = 10\n",
    "\n",
    "args = TrainingArguments(\n",
    "    output_dir=model_name,\n",
    "    \n",
    "    logging_dir='./logs',\n",
    "    \n",
    "    eval_strategy=\"epoch\",\n",
    "    \n",
    "    learning_rate=5e-6,\n",
    "    \n",
    "    per_device_train_batch_size=32,\n",
    "    \n",
    "    per_device_eval_batch_size=8,\n",
    "    \n",
    "    num_train_epochs=num_train_epochs,\n",
    "    \n",
    "    weight_decay=0.02,\n",
    "    \n",
    "    warmup_steps=50,\n",
    "    \n",
    "    remove_unused_columns=False,\n",
    "    \n",
    "    save_strategy='epoch',\n",
    "    \n",
    "    load_best_model_at_end=True,\n",
    "    \n",
    "    save_total_limit=1,\n",
    "    \n",
    "    report_to=\"none\"\n",
    ")"
   ]
  },
  {
   "cell_type": "code",
   "execution_count": 80,
   "metadata": {
    "execution": {
     "iopub.execute_input": "2025-05-13T06:21:01.754996Z",
     "iopub.status.busy": "2025-05-13T06:21:01.754435Z",
     "iopub.status.idle": "2025-05-13T06:21:01.781288Z",
     "shell.execute_reply": "2025-05-13T06:21:01.780732Z",
     "shell.execute_reply.started": "2025-05-13T06:21:01.754974Z"
    },
    "trusted": true
   },
   "outputs": [],
   "source": [
    "trainer = Trainer(\n",
    "    model,\n",
    "    args,\n",
    "    train_dataset=train_data,\n",
    "    eval_dataset=val_data,\n",
    "    data_collator=collate_fn,\n",
    "    compute_metrics=compute_metrics,\n",
    "    tokenizer=processor,\n",
    ")"
   ]
  },
  {
   "cell_type": "code",
   "execution_count": 81,
   "metadata": {
    "execution": {
     "iopub.execute_input": "2025-05-13T06:21:08.683184Z",
     "iopub.status.busy": "2025-05-13T06:21:08.682484Z",
     "iopub.status.idle": "2025-05-13T06:21:20.714897Z",
     "shell.execute_reply": "2025-05-13T06:21:20.714373Z",
     "shell.execute_reply.started": "2025-05-13T06:21:08.683162Z"
    },
    "trusted": true
   },
   "outputs": [
    {
     "data": {
      "text/html": [
       "\n",
       "    <div>\n",
       "      \n",
       "      <progress value='350' max='175' style='width:300px; height:20px; vertical-align: middle;'></progress>\n",
       "      [175/175 05:12]\n",
       "    </div>\n",
       "    "
      ],
      "text/plain": [
       "<IPython.core.display.HTML object>"
      ]
     },
     "metadata": {},
     "output_type": "display_data"
    },
    {
     "data": {
      "text/plain": [
       "{'eval_loss': 0.06666947156190872,\n",
       " 'eval_model_preparation_time': 0.0032,\n",
       " 'eval_accuracy': 0.9942857142857143,\n",
       " 'eval_runtime': 12.0222,\n",
       " 'eval_samples_per_second': 116.451,\n",
       " 'eval_steps_per_second': 14.556}"
      ]
     },
     "execution_count": 81,
     "metadata": {},
     "output_type": "execute_result"
    }
   ],
   "source": [
    "trainer.evaluate()"
   ]
  },
  {
   "cell_type": "code",
   "execution_count": 82,
   "metadata": {
    "execution": {
     "iopub.execute_input": "2025-05-13T06:21:24.802671Z",
     "iopub.status.busy": "2025-05-13T06:21:24.801998Z",
     "iopub.status.idle": "2025-05-13T07:10:05.811725Z",
     "shell.execute_reply": "2025-05-13T07:10:05.811014Z",
     "shell.execute_reply.started": "2025-05-13T06:21:24.802650Z"
    },
    "trusted": true
   },
   "outputs": [
    {
     "data": {
      "text/html": [
       "\n",
       "    <div>\n",
       "      \n",
       "      <progress value='3940' max='3940' style='width:300px; height:20px; vertical-align: middle;'></progress>\n",
       "      [3940/3940 48:39, Epoch 10/10]\n",
       "    </div>\n",
       "    <table border=\"1\" class=\"dataframe\">\n",
       "  <thead>\n",
       " <tr style=\"text-align: left;\">\n",
       "      <th>Epoch</th>\n",
       "      <th>Training Loss</th>\n",
       "      <th>Validation Loss</th>\n",
       "      <th>Model Preparation Time</th>\n",
       "      <th>Accuracy</th>\n",
       "    </tr>\n",
       "  </thead>\n",
       "  <tbody>\n",
       "    <tr>\n",
       "      <td>1</td>\n",
       "      <td>No log</td>\n",
       "      <td>0.015653</td>\n",
       "      <td>0.003200</td>\n",
       "      <td>0.997143</td>\n",
       "    </tr>\n",
       "    <tr>\n",
       "      <td>2</td>\n",
       "      <td>0.024700</td>\n",
       "      <td>0.010734</td>\n",
       "      <td>0.003200</td>\n",
       "      <td>0.999286</td>\n",
       "    </tr>\n",
       "    <tr>\n",
       "      <td>3</td>\n",
       "      <td>0.009000</td>\n",
       "      <td>0.007975</td>\n",
       "      <td>0.003200</td>\n",
       "      <td>0.999286</td>\n",
       "    </tr>\n",
       "    <tr>\n",
       "      <td>4</td>\n",
       "      <td>0.005400</td>\n",
       "      <td>0.006830</td>\n",
       "      <td>0.003200</td>\n",
       "      <td>0.999286</td>\n",
       "    </tr>\n",
       "    <tr>\n",
       "      <td>5</td>\n",
       "      <td>0.005400</td>\n",
       "      <td>0.006817</td>\n",
       "      <td>0.003200</td>\n",
       "      <td>0.999286</td>\n",
       "    </tr>\n",
       "    <tr>\n",
       "      <td>6</td>\n",
       "      <td>0.004400</td>\n",
       "      <td>0.005636</td>\n",
       "      <td>0.003200</td>\n",
       "      <td>0.999286</td>\n",
       "    </tr>\n",
       "    <tr>\n",
       "      <td>7</td>\n",
       "      <td>0.003500</td>\n",
       "      <td>0.005349</td>\n",
       "      <td>0.003200</td>\n",
       "      <td>0.999286</td>\n",
       "    </tr>\n",
       "    <tr>\n",
       "      <td>8</td>\n",
       "      <td>0.003200</td>\n",
       "      <td>0.005160</td>\n",
       "      <td>0.003200</td>\n",
       "      <td>0.999286</td>\n",
       "    </tr>\n",
       "    <tr>\n",
       "      <td>9</td>\n",
       "      <td>0.002700</td>\n",
       "      <td>0.004959</td>\n",
       "      <td>0.003200</td>\n",
       "      <td>0.999286</td>\n",
       "    </tr>\n",
       "    <tr>\n",
       "      <td>10</td>\n",
       "      <td>0.002700</td>\n",
       "      <td>0.004860</td>\n",
       "      <td>0.003200</td>\n",
       "      <td>0.999286</td>\n",
       "    </tr>\n",
       "  </tbody>\n",
       "</table><p>"
      ],
      "text/plain": [
       "<IPython.core.display.HTML object>"
      ]
     },
     "metadata": {},
     "output_type": "display_data"
    },
    {
     "data": {
      "text/plain": [
       "TrainOutput(global_step=3940, training_loss=0.006990311684342205, metrics={'train_runtime': 2920.3503, 'train_samples_per_second': 43.146, 'train_steps_per_second': 1.349, 'total_flos': 9.763990691438592e+18, 'train_loss': 0.006990311684342205, 'epoch': 10.0})"
      ]
     },
     "execution_count": 82,
     "metadata": {},
     "output_type": "execute_result"
    }
   ],
   "source": [
    "trainer.train()"
   ]
  },
  {
   "cell_type": "code",
   "execution_count": 83,
   "metadata": {
    "execution": {
     "iopub.execute_input": "2025-05-13T07:10:05.813394Z",
     "iopub.status.busy": "2025-05-13T07:10:05.813193Z",
     "iopub.status.idle": "2025-05-13T07:10:17.726973Z",
     "shell.execute_reply": "2025-05-13T07:10:17.726391Z",
     "shell.execute_reply.started": "2025-05-13T07:10:05.813379Z"
    },
    "trusted": true
   },
   "outputs": [
    {
     "data": {
      "text/html": [],
      "text/plain": [
       "<IPython.core.display.HTML object>"
      ]
     },
     "metadata": {},
     "output_type": "display_data"
    },
    {
     "data": {
      "text/plain": [
       "{'eval_loss': 0.004860161803662777,\n",
       " 'eval_model_preparation_time': 0.0032,\n",
       " 'eval_accuracy': 0.9992857142857143,\n",
       " 'eval_runtime': 11.9037,\n",
       " 'eval_samples_per_second': 117.611,\n",
       " 'eval_steps_per_second': 14.701,\n",
       " 'epoch': 10.0}"
      ]
     },
     "execution_count": 83,
     "metadata": {},
     "output_type": "execute_result"
    }
   ],
   "source": [
    "trainer.evaluate()"
   ]
  },
  {
   "cell_type": "code",
   "execution_count": 84,
   "metadata": {
    "execution": {
     "iopub.execute_input": "2025-05-13T07:10:17.728181Z",
     "iopub.status.busy": "2025-05-13T07:10:17.727892Z",
     "iopub.status.idle": "2025-05-13T07:10:31.608159Z",
     "shell.execute_reply": "2025-05-13T07:10:31.607450Z",
     "shell.execute_reply.started": "2025-05-13T07:10:17.728154Z"
    },
    "trusted": true
   },
   "outputs": [
    {
     "name": "stdout",
     "output_type": "stream",
     "text": [
      "{'test_loss': 0.4431949257850647, 'test_model_preparation_time': 0.0032, 'test_accuracy': 0.9285714285714286, 'test_runtime': 13.8698, 'test_samples_per_second': 100.939, 'test_steps_per_second': 12.617}\n"
     ]
    }
   ],
   "source": [
    "outputs = trainer.predict(test_data)\n",
    "\n",
    "print(outputs.metrics)"
   ]
  },
  {
   "cell_type": "code",
   "execution_count": 86,
   "metadata": {
    "execution": {
     "iopub.execute_input": "2025-05-13T07:10:31.625717Z",
     "iopub.status.busy": "2025-05-13T07:10:31.625495Z",
     "iopub.status.idle": "2025-05-13T07:10:32.581640Z",
     "shell.execute_reply": "2025-05-13T07:10:32.581117Z",
     "shell.execute_reply.started": "2025-05-13T07:10:31.625701Z"
    },
    "trusted": true
   },
   "outputs": [],
   "source": [
    "trainer.save_model()"
   ]
  },
  {
   "cell_type": "code",
   "execution_count": 87,
   "metadata": {
    "execution": {
     "iopub.execute_input": "2025-05-13T07:10:32.582550Z",
     "iopub.status.busy": "2025-05-13T07:10:32.582340Z",
     "iopub.status.idle": "2025-05-13T07:10:35.736985Z",
     "shell.execute_reply": "2025-05-13T07:10:35.736412Z",
     "shell.execute_reply.started": "2025-05-13T07:10:32.582528Z"
    },
    "trusted": true
   },
   "outputs": [
    {
     "name": "stderr",
     "output_type": "stream",
     "text": [
      "Using a slow image processor as `use_fast` is unset and a slow processor was saved with this model. `use_fast=True` will be the default behavior in v4.52, even if the model was saved with a slow processor. This will result in minor differences in outputs. You'll still be able to use a slow processor with `use_fast=False`.\n",
      "Device set to use cuda:0\n"
     ]
    }
   ],
   "source": [
    "from transformers import pipeline\n",
    "pipe = pipeline('image-classification', model=model_name, device=0)"
   ]
  },
  {
   "cell_type": "code",
   "execution_count": 88,
   "metadata": {
    "execution": {
     "iopub.execute_input": "2025-05-13T07:10:35.737956Z",
     "iopub.status.busy": "2025-05-13T07:10:35.737695Z",
     "iopub.status.idle": "2025-05-13T07:10:35.748082Z",
     "shell.execute_reply": "2025-05-13T07:10:35.747436Z",
     "shell.execute_reply.started": "2025-05-13T07:10:35.737938Z"
    },
    "trusted": true
   },
   "outputs": [
    {
     "data": {
      "image/jpeg": "[encoded data removed]",
      "image/png": "[encoded data removed]",
      "text/plain": [
       "<PIL.PngImagePlugin.PngImageFile image mode=RGB size=64x64>"
      ]
     },
     "execution_count": 88,
     "metadata": {},
     "output_type": "execute_result"
    }
   ],
   "source": [
    "image = test_data[1][\"image\"]\n",
    "image"
   ]
  },
  {
   "cell_type": "code",
   "execution_count": 90,
   "metadata": {
    "execution": {
     "iopub.execute_input": "2025-05-13T07:10:35.796169Z",
     "iopub.status.busy": "2025-05-13T07:10:35.795895Z",
     "iopub.status.idle": "2025-05-13T07:10:35.803098Z",
     "shell.execute_reply": "2025-05-13T07:10:35.802475Z",
     "shell.execute_reply.started": "2025-05-13T07:10:35.796142Z"
    },
    "trusted": true
   },
   "outputs": [
    {
     "data": {
      "text/plain": [
       "'Crime'"
      ]
     },
     "execution_count": 90,
     "metadata": {},
     "output_type": "execute_result"
    }
   ],
   "source": [
    "id2label[test_data[1][\"label\"]]"
   ]
  }
 ],
 "metadata": {
  "kaggle": {
   "accelerator": "gpu",
   "dataSources": [
    {
     "datasetId": 7403518,
     "sourceId": 11790934,
     "sourceType": "datasetVersion"
    }
   ],
   "dockerImageVersionId": 31041,
   "isGpuEnabled": true,
   "isInternetEnabled": true,
   "language": "python",
   "sourceType": "notebook"
  },
  "kernelspec": {
   "display_name": "Python 3",
   "language": "python",
   "name": "python3"
  },
  "language_info": {
   "codemirror_mode": {
    "name": "ipython",
    "version": 3
   },
   "file_extension": ".py",
   "mimetype": "text/x-python",
   "name": "python",
   "nbconvert_exporter": "python",
   "pygments_lexer": "ipython3",
   "version": "3.11.11"
  }
 },
 "nbformat": 4,
 "nbformat_minor": 4
}
